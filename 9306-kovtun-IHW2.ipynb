{
 "cells": [
  {
   "cell_type": "markdown",
   "id": "da55df86",
   "metadata": {},
   "source": [
    "# 10 Вариант ИДЗ-2 МЛиТА 2013"
   ]
  },
  {
   "cell_type": "markdown",
   "id": "d1c22ce8",
   "metadata": {},
   "source": [
    "<b>Задание</b>: Правильные скобочные записи, у которых внутри любой пары квадратных скобок стоит последовательность квадратных и круглых скобок из более чем одной пары скобок."
   ]
  },
  {
   "cell_type": "markdown",
   "id": "8320eb73",
   "metadata": {},
   "source": [
    "## 1. Набор граничных примеров и контрпримеров, демонстрирующих уточнение языка"
   ]
  },
  {
   "cell_type": "markdown",
   "id": "5725e302",
   "metadata": {},
   "source": [
    "<table align = center>\n",
    "  <tr style=\"border-bottom: 1px solid black;\">\n",
    "    <th style=\"text-align: center;\">Корректно</th>\n",
    "    <th style=\"text-align: center;\">Некорректно</th>\n",
    "  </tr>\n",
    "  \n",
    "  <tr>\n",
    "    <td>$$[()()]$$</td>\n",
    "    <td>$$[()]$$</td>\n",
    "  </tr>\n",
    "    \n",
    "  <tr>\n",
    "    <td>$$[()(())()]()$$</td>\n",
    "    <td>$$[[(())]()()]$$</td>\n",
    "  </tr>\n",
    "    \n",
    "  <tr>\n",
    "    <td>$$[([()()])()]$$</td>\n",
    "    <td>$$[[()()]()]$$</td>\n",
    "  </tr>\n",
    "    \n",
    "  <tr>\n",
    "    <td>$$()$$</td>\n",
    "    <td>$$([)]$$</td>\n",
    "  </tr>\n",
    "</table>"
   ]
  },
  {
   "cell_type": "markdown",
   "id": "0cee878f",
   "metadata": {},
   "source": [
    "## 2. КС-грамматика языка"
   ]
  },
  {
   "cell_type": "markdown",
   "id": "d5ab2aa1",
   "metadata": {},
   "source": [
    "``` py\n",
    "<BRACKETS> ::= <IMPRESSION> <BRACKETS> | <NULL>\n",
    "<IMPRESSION> ::= <SQUARE> | <ROUND>\n",
    "<ROUND> ::= <ROUND_LEFT> <BRACKETS> <ROUND_RIGHT>\n",
    "<SQUARE> ::= <SQUARE_LEFT> <SQUARE_SEQUENCE> <ROUND> \n",
    "                           <SQUARE_SEQUENCE> <ROUND> \n",
    "                           <BRACKETS> <SQUARE_RIGHT>\n",
    "SQUARE_SEQUENCE ::= <SQUARE> | <NULL>\n",
    "<ROUND_LEFT> ::= '('\n",
    "<ROUND_RIGHT> ::= ')'\n",
    "<SQUARE_LEFT> ::= '['\n",
    "<SQUARE_RIGHT> ::= ']'\n",
    "```\n"
   ]
  },
  {
   "cell_type": "markdown",
   "id": "3e0721de",
   "metadata": {},
   "source": [
    "## Грамматический разбор одного примера"
   ]
  },
  {
   "cell_type": "markdown",
   "id": "5181d0ae",
   "metadata": {},
   "source": [
    "$$[([()()])()[()(())]]$$"
   ]
  },
  {
   "cell_type": "markdown",
   "id": "dbcce2e1",
   "metadata": {},
   "source": [
    "```py\n",
    "<BRACKETS>\n",
    "\n",
    "\n",
    "<IMPRESSION> <BRACKETS> | <NULL>\n",
    "\n",
    "\n",
    "<IMPRESSION> <BRACKETS>\n",
    "\n",
    "\n",
    "[ <SQUARE_SEQUENCE> <ROUND> \n",
    "  <SQUARE_SEQUENCE> <ROUND> \n",
    "  <BRACKETS> ] <IMPRESSION> <BRACKETS> | <NULL>\n",
    "\n",
    "\n",
    "[ <NULL> ( <BRACKETS> )\n",
    "  <NULL> ( <BRACKETS> )\n",
    "  <IMPRESSION> <BRACKETS> | <NULL> ] <NULL>\n",
    "  \n",
    "\n",
    "[ ( <IMPRESSION> <BRACKETS> | <NULL> )\n",
    "  ( <IMPRESSION> <BRACKETS> | <NULL> )\n",
    "  [ <SQUARE_SEQUENCE> <ROUND> \n",
    "    <SQUARE_SEQUENCE> <ROUND> \n",
    "    <BRACKETS> ] <IMPRESSION> <BRACKETS> | <NULL> ]\n",
    "\n",
    "\n",
    "[ ( [ <SQUARE_SEQUENCE> <ROUND> \n",
    "      <SQUARE_SEQUENCE> <ROUND> \n",
    "      <BRACKETS> ] <IMPRESSION> <BRACKETS> | <NULL> )\n",
    "  ( <NULL> )\n",
    "  [ <NULL> ( <BRACKETS> ) \n",
    "    <NULL> ( <BRACKETS> )\n",
    "    <IMPRESSION> <BRACKETS> | <NULL>] <NULL> ]\n",
    "\n",
    "\n",
    "[ ( [ <NULL> ( <BRACKETS> )\n",
    "      <NULL> ( <BRACKETS> )\n",
    "      <IMPRESSION> <BRACKETS> | <NULL> ] <NULL> )\n",
    "  ()\n",
    "  [ ( <IMPRESSION> <BRACKETS> | <NULL> ) \n",
    "    ( <IMPRESSION> <BRACKETS> | <NULL> )\n",
    "      <NULL>] ]\n",
    "      \n",
    "[ ( [ ( <IMPRESSION> <BRACKETS> | <NULL> )\n",
    "      ( <IMPRESSION> <BRACKETS> | <NULL> )\n",
    "      <NULL> ] )\n",
    "  ()\n",
    "  [ ( <NULL> ) \n",
    "    ( ( <BRACKETS> ) <IMPRESSION> <BRACKETS> | <NULL> ) ] ]\n",
    "   \n",
    "  \n",
    "[ ( [ ( <NULL> )\n",
    "      ( <NULL> ) ] )\n",
    "  ()\n",
    "  [ () \n",
    "    ( ( <IMPRESSION> <BRACKETS> | <NULL> ) <NULL> ) ] ]\n",
    "    \n",
    "\n",
    "[ ([()()])\n",
    "  ()\n",
    "  [ () \n",
    "    ( ( <NULL> ) ) ] ]\n",
    "    \n",
    "    \n",
    "[ ([()()]) () [()(())] ]\n",
    "```"
   ]
  },
  {
   "cell_type": "markdown",
   "id": "528c058d",
   "metadata": {},
   "source": [
    "## 4. Проверка того, что грамматика удовлетворяет однозначности ветвления по первому символу (принадлежит классу LL0)"
   ]
  },
  {
   "cell_type": "markdown",
   "id": "7174ed0f",
   "metadata": {},
   "source": [
    "$L(W_1)$={ $($ } <br>\n",
    "$L(W_2)$={ $[$ } <br>\n",
    "$L(W_1) \\cap L(W_2) = \\emptyset$, что значит принадлежность классу LL0\n"
   ]
  },
  {
   "cell_type": "markdown",
   "id": "3c89d26f",
   "metadata": {},
   "source": [
    "## 5. Модифицированная грамматика (если исходная КС-грамматика не удовлетворяет условию однозначности ветвления)"
   ]
  },
  {
   "cell_type": "markdown",
   "id": "5b32fe48",
   "metadata": {},
   "source": [
    "$$-||-$$"
   ]
  },
  {
   "cell_type": "markdown",
   "id": "b0bd8a0a",
   "metadata": {},
   "source": [
    "## 6-8. Таблица перевода языка в диаграммы, псевдокод и реализацию (Python)"
   ]
  },
  {
   "cell_type": "markdown",
   "id": "a4d84b2f",
   "metadata": {},
   "source": [
    "Чтобы не засорять диаграммы, я обозначил стрелками только направление входа в выражение и выхода из него -- другие стрелки излишни"
   ]
  },
  {
   "cell_type": "markdown",
   "id": "cdf71728",
   "metadata": {},
   "source": [
    "<table width = 1700>\n",
    "  <col width=\"150\" valign=\"centre\">\n",
    "  <col width=\"750\" valign=\"centre\">\n",
    "  <col width=\"400\" valign=\"centre\">\n",
    "  <col width=\"400\" valign=\"centre\">\n",
    "    \n",
    "  <tr style=\"border-bottom: 1px solid black;\">\n",
    "    <th style=\"text-align: center;\">Исходная грамматика</th>\n",
    "    <th style=\"text-align: center;\">Диаграмма</th>\n",
    "    <th style=\"text-align: center;\">Псевдокод</th>\n",
    "    <th style=\"text-align: center;\">Реализация</th>\n",
    "  </tr>\n",
    "\n",
    "  <tr>\n",
    "    <td style=\"text-align: center;\">BRACKETS</td>\n",
    "    <td style=\"text-align: center;\"><img src=\"MLaTA_1.png\" alt=\"MLATA_1\"></td>\n",
    "    <td style=\"text-align: left;\">\n",
    "      <pre>\n",
    "        BRACKETS\n",
    "        {\n",
    "            if ch = ( '(' or '[' ) then\n",
    "                read(ch);\n",
    "                IMPRESSION;\n",
    "                BRACKETS;\n",
    "            else \n",
    "                error;\n",
    "        }\n",
    "      </pre>\n",
    "    </td>\n",
    "    <td style=\"text-align: center;\">Через регулярные выражения</td>\n",
    "  </tr>\n",
    "    \n",
    "  <tr>\n",
    "    <td style=\"text-align: center;\">IMPRESSION</td>\n",
    "    <td style=\"text-align: center;\"><img src=\"MLaTA_2.png\" alt=\"MLATA_2\"></td>\n",
    "    <td style=\"text-align: left;\">\n",
    "      <pre style=\"background: #f5f5f5\">\n",
    "        IMPRESSION\n",
    "        {\n",
    "            if ch = '(' then\n",
    "                ROUND; \n",
    "            else if ch = '[' then\n",
    "                SQUARE;\n",
    "        }\n",
    "      </pre>\n",
    "    </td>\n",
    "    <td style=\"text-align: center;\">Через регулярные выражения</td>\n",
    "  </tr>\n",
    "    \n",
    "  <tr>\n",
    "    <td style=\"text-align: center;\">ROUND</td> \n",
    "    <td style=\"text-align: center;\"><img src=\"MLaTA_3.png\" alt=\"MLATA_3\"></td>\n",
    "    <td style=\"text-align: left;\">\n",
    "      <pre>\n",
    "        ROUND\n",
    "        {\n",
    "            if ch = '(' then\n",
    "                BRACKETS;\n",
    "                if ch = ')' then\n",
    "                    red(ch);\n",
    "                else \n",
    "                    error;\n",
    "        }\n",
    "      </pre>\n",
    "    </td>\n",
    "    <td style=\"text-align: center;\">Через регулярные выражения</td>\n",
    "  </tr>\n",
    "  \n",
    "  <tr>\n",
    "    <td style=\"text-align: center;\">SQUARE</td>\n",
    "    <td style=\"text-align: center;\"><img src=\"MLaTA_4.png\" alt=\"MLATA_4\"></td>\n",
    "    <td style=\"text-align: left;\">\n",
    "      <pre style=\"background: #f5f5f5\">\n",
    "        ROUND\n",
    "        {\n",
    "            if ch = '[' then\n",
    "                SQUARE_SEQUENCE;\n",
    "                ROUND;\n",
    "                SQUARE_SEQUENCE;\n",
    "                ROUND;\n",
    "                BRACKETS;\n",
    "                if ch = ']' then\n",
    "                    red(ch);\n",
    "                else \n",
    "                    error;\n",
    "        }\n",
    "      </pre>\n",
    "    </td>\n",
    "    <td style=\"text-align: center;\">Через регулярные выражения</td>\n",
    "  </tr>\n",
    "    \n",
    "  <tr>\n",
    "    <td style=\"text-align: center;\">SQUARE_SEQUENCE</td>\n",
    "    <td style=\"text-align: center;\"><img src=\"MLaTA_5.png\" alt=\"MLATA_5\"></td>\n",
    "    <td style=\"text-align: left;\">\n",
    "      <pre>\n",
    "        SQUARE_SEQUENCE\n",
    "        {\n",
    "            if ch = '[' then\n",
    "                SQUARE;\n",
    "        }\n",
    "      </pre>\n",
    "    </td>\n",
    "    <td style=\"text-align: center;\">Через регулярные выражения</td>\n",
    "  </tr>\n",
    "    \n",
    "</table>\n"
   ]
  },
  {
   "cell_type": "code",
   "execution_count": 124,
   "id": "07cf56c0",
   "metadata": {},
   "outputs": [
    {
     "name": "stdout",
     "output_type": "stream",
     "text": [
      "()()()[(())()][()()]\n",
      "CORRECT\n"
     ]
    }
   ],
   "source": [
    "import regex\n",
    "s = input()\n",
    "pattern = '(\\(((?1)|(?3))*\\))*(?1)*(\\[(?3)*(?1)(?3)*(?1)+(?2)*\\])*(?2)*'\n",
    "match = regex.fullmatch(pattern,s)\n",
    "print(\"CORRECT\" if match else \"INCORRECT\")"
   ]
  }
 ],
 "metadata": {
  "kernelspec": {
   "display_name": "Python 3",
   "language": "python",
   "name": "python3"
  },
  "language_info": {
   "codemirror_mode": {
    "name": "ipython",
    "version": 3
   },
   "file_extension": ".py",
   "mimetype": "text/x-python",
   "name": "python",
   "nbconvert_exporter": "python",
   "pygments_lexer": "ipython3",
   "version": "3.8.8"
  }
 },
 "nbformat": 4,
 "nbformat_minor": 5
}
